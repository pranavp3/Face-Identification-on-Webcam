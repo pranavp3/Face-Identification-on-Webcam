{
 "cells": [
  {
   "cell_type": "code",
   "execution_count": 18,
   "id": "enhanced-chapter",
   "metadata": {},
   "outputs": [],
   "source": [
    "from keras.layers import Input, Lambda, Dense,Flatten\n",
    "from keras.models import Sequential, Model\n",
    "from keras.applications.vgg16 import VGG16\n",
    "from keras.applications.vgg16 import preprocess_input\n",
    "from keras.preprocessing.image import ImageDataGenerator\n",
    "from glob import glob\n",
    "import numpy as np\n",
    "import matplotlib.pyplot as plt"
   ]
  },
  {
   "cell_type": "code",
   "execution_count": 41,
   "id": "ruled-companion",
   "metadata": {},
   "outputs": [
    {
     "name": "stdout",
     "output_type": "stream",
     "text": [
      "Model: \"functional_15\"\n",
      "_________________________________________________________________\n",
      "Layer (type)                 Output Shape              Param #   \n",
      "=================================================================\n",
      "input_8 (InputLayer)         [(None, 224, 224, 3)]     0         \n",
      "_________________________________________________________________\n",
      "block1_conv1 (Conv2D)        (None, 224, 224, 64)      1792      \n",
      "_________________________________________________________________\n",
      "block1_conv2 (Conv2D)        (None, 224, 224, 64)      36928     \n",
      "_________________________________________________________________\n",
      "block1_pool (MaxPooling2D)   (None, 112, 112, 64)      0         \n",
      "_________________________________________________________________\n",
      "block2_conv1 (Conv2D)        (None, 112, 112, 128)     73856     \n",
      "_________________________________________________________________\n",
      "block2_conv2 (Conv2D)        (None, 112, 112, 128)     147584    \n",
      "_________________________________________________________________\n",
      "block2_pool (MaxPooling2D)   (None, 56, 56, 128)       0         \n",
      "_________________________________________________________________\n",
      "block3_conv1 (Conv2D)        (None, 56, 56, 256)       295168    \n",
      "_________________________________________________________________\n",
      "block3_conv2 (Conv2D)        (None, 56, 56, 256)       590080    \n",
      "_________________________________________________________________\n",
      "block3_conv3 (Conv2D)        (None, 56, 56, 256)       590080    \n",
      "_________________________________________________________________\n",
      "block3_pool (MaxPooling2D)   (None, 28, 28, 256)       0         \n",
      "_________________________________________________________________\n",
      "block4_conv1 (Conv2D)        (None, 28, 28, 512)       1180160   \n",
      "_________________________________________________________________\n",
      "block4_conv2 (Conv2D)        (None, 28, 28, 512)       2359808   \n",
      "_________________________________________________________________\n",
      "block4_conv3 (Conv2D)        (None, 28, 28, 512)       2359808   \n",
      "_________________________________________________________________\n",
      "block4_pool (MaxPooling2D)   (None, 14, 14, 512)       0         \n",
      "_________________________________________________________________\n",
      "block5_conv1 (Conv2D)        (None, 14, 14, 512)       2359808   \n",
      "_________________________________________________________________\n",
      "block5_conv2 (Conv2D)        (None, 14, 14, 512)       2359808   \n",
      "_________________________________________________________________\n",
      "block5_conv3 (Conv2D)        (None, 14, 14, 512)       2359808   \n",
      "_________________________________________________________________\n",
      "block5_pool (MaxPooling2D)   (None, 7, 7, 512)         0         \n",
      "_________________________________________________________________\n",
      "flatten_7 (Flatten)          (None, 25088)             0         \n",
      "_________________________________________________________________\n",
      "dense_7 (Dense)              (None, 2)                 50178     \n",
      "=================================================================\n",
      "Total params: 14,764,866\n",
      "Trainable params: 50,178\n",
      "Non-trainable params: 14,714,688\n",
      "_________________________________________________________________\n"
     ]
    }
   ],
   "source": [
    "Image_size= [224,224]\n",
    "train_path='C:\\\\Users\\\\prana\\\\Datasets\\\\Train'\n",
    "test_path='C:\\\\Users\\\\prana\\\\Datasets\\\\Test'\n",
    "vgg= VGG16(input_shape= Image_size+ [3], weights='imagenet', include_top= False)\n",
    "\n",
    "for layer in vgg.layers:\n",
    "    layer.trainable= False\n",
    "    \n",
    "folders= glob('C:\\\\Users\\\\prana\\\\Datasets\\\\Train\\\\*')\n",
    "\n",
    "x= Flatten()(vgg.output)\n",
    "prediction= Dense(len(folders),activation='softmax')(x)\n",
    "\n",
    "model= Model( inputs= vgg.input, outputs= prediction)\n",
    "model.summary()\n",
    "\n",
    "model.compile(loss='categorical_crossentropy',\n",
    "              optimizer= 'adam',\n",
    "              metrics=['accuracy'])\n",
    "\n",
    "train_data= ImageDataGenerator( rescale=1./255,\n",
    "                                shear_range=0.2,\n",
    "                                zoom_range= 0.2,\n",
    "                                horizontal_flip= True)\n",
    "\n",
    "\n",
    "\n",
    "\n"
   ]
  },
  {
   "cell_type": "code",
   "execution_count": 42,
   "id": "settled-design",
   "metadata": {
    "scrolled": false
   },
   "outputs": [
    {
     "name": "stdout",
     "output_type": "stream",
     "text": [
      "Found 402 images belonging to 2 classes.\n",
      "Found 187 images belonging to 2 classes.\n",
      "Epoch 1/5\n",
      "13/13 [==============================] - 155s 12s/step - loss: 0.5609 - accuracy: 0.8184 - val_loss: 0.2725 - val_accuracy: 0.8930\n",
      "Epoch 2/5\n",
      "13/13 [==============================] - 203s 16s/step - loss: 0.0250 - accuracy: 0.9950 - val_loss: 0.4028 - val_accuracy: 0.8930\n",
      "Epoch 3/5\n",
      "13/13 [==============================] - 169s 13s/step - loss: 0.0079 - accuracy: 0.9975 - val_loss: 0.0908 - val_accuracy: 0.9198\n",
      "Epoch 4/5\n",
      "13/13 [==============================] - 144s 11s/step - loss: 1.3597e-04 - accuracy: 1.0000 - val_loss: 0.0261 - val_accuracy: 1.0000\n",
      "Epoch 5/5\n",
      "13/13 [==============================] - 134s 10s/step - loss: 4.3323e-05 - accuracy: 1.0000 - val_loss: 0.0165 - val_accuracy: 1.0000\n"
     ]
    }
   ],
   "source": [
    "test_data= ImageDataGenerator( rescale= 1./255)\n",
    "\n",
    "train_set= train_data.flow_from_directory('C:\\\\Users\\\\prana\\\\Datasets\\\\Train',\n",
    "                                         target_size= (224, 224),                                         \n",
    "                                         class_mode='categorical')\n",
    "test_set=test_data.flow_from_directory('C:\\\\Users\\\\prana\\\\Datasets\\\\Test',\n",
    "                                         target_size= (224, 224),                                         \n",
    "                                         class_mode='categorical')\n",
    "    \n",
    "    \n",
    "MODEL= model.fit_generator(train_set,\n",
    "                           validation_data= test_set,\n",
    "                           epochs= 5,\n",
    "                           steps_per_epoch= len(train_set),\n",
    "                           validation_steps= len(test_set))\n"
   ]
  },
  {
   "cell_type": "code",
   "execution_count": 43,
   "id": "democratic-musician",
   "metadata": {},
   "outputs": [],
   "source": [
    "from keras.models import load_model\n",
    "model.save('Fca')"
   ]
  },
  {
   "cell_type": "code",
   "execution_count": null,
   "id": "abstract-thailand",
   "metadata": {},
   "outputs": [],
   "source": []
  }
 ],
 "metadata": {
  "kernelspec": {
   "display_name": "Python 3",
   "language": "python",
   "name": "python3"
  },
  "language_info": {
   "codemirror_mode": {
    "name": "ipython",
    "version": 3
   },
   "file_extension": ".py",
   "mimetype": "text/x-python",
   "name": "python",
   "nbconvert_exporter": "python",
   "pygments_lexer": "ipython3",
   "version": "3.8.3"
  }
 },
 "nbformat": 4,
 "nbformat_minor": 5
}
